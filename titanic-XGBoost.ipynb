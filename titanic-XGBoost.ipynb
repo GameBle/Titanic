{
 "cells": [
  {
   "cell_type": "code",
   "execution_count": 1,
   "id": "f68beaaa",
   "metadata": {
    "_cell_guid": "b1076dfc-b9ad-4769-8c92-a6c4dae69d19",
    "_uuid": "8f2839f25d086af736a60e9eeb907d3b93b6e0e5",
    "execution": {
     "iopub.execute_input": "2023-08-21T17:28:43.415485Z",
     "iopub.status.busy": "2023-08-21T17:28:43.415082Z",
     "iopub.status.idle": "2023-08-21T17:28:43.426135Z",
     "shell.execute_reply": "2023-08-21T17:28:43.425378Z"
    },
    "papermill": {
     "duration": 0.023047,
     "end_time": "2023-08-21T17:28:43.428024",
     "exception": false,
     "start_time": "2023-08-21T17:28:43.404977",
     "status": "completed"
    },
    "tags": []
   },
   "outputs": [
    {
     "name": "stdout",
     "output_type": "stream",
     "text": [
      "/kaggle/input/titanic/train.csv\n",
      "/kaggle/input/titanic/test.csv\n",
      "/kaggle/input/titanic/gender_submission.csv\n"
     ]
    }
   ],
   "source": [
    "# This Python 3 environment comes with many helpful analytics libraries installed\n",
    "# It is defined by the kaggle/python Docker image: https://github.com/kaggle/docker-python\n",
    "# For example, here's several helpful packages to load\n",
    "\n",
    "import numpy as np # linear algebra\n",
    "import pandas as pd # data processing, CSV file I/O (e.g. pd.read_csv)\n",
    "\n",
    "# Input data files are available in the read-only \"../input/\" directory\n",
    "# For example, running this (by clicking run or pressing Shift+Enter) will list all files under the input directory\n",
    "\n",
    "import os\n",
    "for dirname, _, filenames in os.walk('/kaggle/input'):\n",
    "    for filename in filenames:\n",
    "        print(os.path.join(dirname, filename))\n",
    "\n",
    "# You can write up to 20GB to the current directory (/kaggle/working/) that gets preserved as output when you create a version using \"Save & Run All\" \n",
    "# You can also write temporary files to /kaggle/temp/, but they won't be saved outside of the current session"
   ]
  },
  {
   "cell_type": "code",
   "execution_count": 2,
   "id": "971887f1",
   "metadata": {
    "execution": {
     "iopub.execute_input": "2023-08-21T17:28:43.441195Z",
     "iopub.status.busy": "2023-08-21T17:28:43.440961Z",
     "iopub.status.idle": "2023-08-21T17:28:45.009734Z",
     "shell.execute_reply": "2023-08-21T17:28:45.009058Z"
    },
    "papermill": {
     "duration": 1.577523,
     "end_time": "2023-08-21T17:28:45.011758",
     "exception": false,
     "start_time": "2023-08-21T17:28:43.434235",
     "status": "completed"
    },
    "tags": []
   },
   "outputs": [
    {
     "name": "stderr",
     "output_type": "stream",
     "text": [
      "/opt/conda/lib/python3.10/site-packages/scipy/__init__.py:146: UserWarning: A NumPy version >=1.16.5 and <1.23.0 is required for this version of SciPy (detected version 1.23.5\n",
      "  warnings.warn(f\"A NumPy version >={np_minversion} and <{np_maxversion}\"\n"
     ]
    }
   ],
   "source": [
    "import matplotlib.pyplot as plt\n",
    "import seaborn as sns\n",
    "from sklearn.model_selection import train_test_split\n",
    "from xgboost import XGBClassifier\n",
    "from sklearn.model_selection import GridSearchCV"
   ]
  },
  {
   "cell_type": "code",
   "execution_count": 3,
   "id": "482c566b",
   "metadata": {
    "execution": {
     "iopub.execute_input": "2023-08-21T17:28:45.026222Z",
     "iopub.status.busy": "2023-08-21T17:28:45.024805Z",
     "iopub.status.idle": "2023-08-21T17:28:45.058445Z",
     "shell.execute_reply": "2023-08-21T17:28:45.057731Z"
    },
    "papermill": {
     "duration": 0.042799,
     "end_time": "2023-08-21T17:28:45.060820",
     "exception": false,
     "start_time": "2023-08-21T17:28:45.018021",
     "status": "completed"
    },
    "tags": []
   },
   "outputs": [],
   "source": [
    "train = pd.read_csv('../input/titanic/train.csv')\n",
    "test = pd.read_csv('../input/titanic/test.csv')"
   ]
  },
  {
   "cell_type": "code",
   "execution_count": 4,
   "id": "902383ea",
   "metadata": {
    "execution": {
     "iopub.execute_input": "2023-08-21T17:28:45.074750Z",
     "iopub.status.busy": "2023-08-21T17:28:45.074418Z",
     "iopub.status.idle": "2023-08-21T17:28:45.097836Z",
     "shell.execute_reply": "2023-08-21T17:28:45.096783Z"
    },
    "papermill": {
     "duration": 0.032802,
     "end_time": "2023-08-21T17:28:45.100066",
     "exception": false,
     "start_time": "2023-08-21T17:28:45.067264",
     "status": "completed"
    },
    "tags": []
   },
   "outputs": [
    {
     "data": {
      "text/html": [
       "<div>\n",
       "<style scoped>\n",
       "    .dataframe tbody tr th:only-of-type {\n",
       "        vertical-align: middle;\n",
       "    }\n",
       "\n",
       "    .dataframe tbody tr th {\n",
       "        vertical-align: top;\n",
       "    }\n",
       "\n",
       "    .dataframe thead th {\n",
       "        text-align: right;\n",
       "    }\n",
       "</style>\n",
       "<table border=\"1\" class=\"dataframe\">\n",
       "  <thead>\n",
       "    <tr style=\"text-align: right;\">\n",
       "      <th></th>\n",
       "      <th>PassengerId</th>\n",
       "      <th>Survived</th>\n",
       "      <th>Pclass</th>\n",
       "      <th>Name</th>\n",
       "      <th>Sex</th>\n",
       "      <th>Age</th>\n",
       "      <th>SibSp</th>\n",
       "      <th>Parch</th>\n",
       "      <th>Ticket</th>\n",
       "      <th>Fare</th>\n",
       "      <th>Cabin</th>\n",
       "      <th>Embarked</th>\n",
       "    </tr>\n",
       "  </thead>\n",
       "  <tbody>\n",
       "    <tr>\n",
       "      <th>0</th>\n",
       "      <td>1</td>\n",
       "      <td>0</td>\n",
       "      <td>3</td>\n",
       "      <td>Braund, Mr. Owen Harris</td>\n",
       "      <td>male</td>\n",
       "      <td>22.0</td>\n",
       "      <td>1</td>\n",
       "      <td>0</td>\n",
       "      <td>A/5 21171</td>\n",
       "      <td>7.2500</td>\n",
       "      <td>NaN</td>\n",
       "      <td>S</td>\n",
       "    </tr>\n",
       "    <tr>\n",
       "      <th>1</th>\n",
       "      <td>2</td>\n",
       "      <td>1</td>\n",
       "      <td>1</td>\n",
       "      <td>Cumings, Mrs. John Bradley (Florence Briggs Th...</td>\n",
       "      <td>female</td>\n",
       "      <td>38.0</td>\n",
       "      <td>1</td>\n",
       "      <td>0</td>\n",
       "      <td>PC 17599</td>\n",
       "      <td>71.2833</td>\n",
       "      <td>C85</td>\n",
       "      <td>C</td>\n",
       "    </tr>\n",
       "    <tr>\n",
       "      <th>2</th>\n",
       "      <td>3</td>\n",
       "      <td>1</td>\n",
       "      <td>3</td>\n",
       "      <td>Heikkinen, Miss. Laina</td>\n",
       "      <td>female</td>\n",
       "      <td>26.0</td>\n",
       "      <td>0</td>\n",
       "      <td>0</td>\n",
       "      <td>STON/O2. 3101282</td>\n",
       "      <td>7.9250</td>\n",
       "      <td>NaN</td>\n",
       "      <td>S</td>\n",
       "    </tr>\n",
       "    <tr>\n",
       "      <th>3</th>\n",
       "      <td>4</td>\n",
       "      <td>1</td>\n",
       "      <td>1</td>\n",
       "      <td>Futrelle, Mrs. Jacques Heath (Lily May Peel)</td>\n",
       "      <td>female</td>\n",
       "      <td>35.0</td>\n",
       "      <td>1</td>\n",
       "      <td>0</td>\n",
       "      <td>113803</td>\n",
       "      <td>53.1000</td>\n",
       "      <td>C123</td>\n",
       "      <td>S</td>\n",
       "    </tr>\n",
       "    <tr>\n",
       "      <th>4</th>\n",
       "      <td>5</td>\n",
       "      <td>0</td>\n",
       "      <td>3</td>\n",
       "      <td>Allen, Mr. William Henry</td>\n",
       "      <td>male</td>\n",
       "      <td>35.0</td>\n",
       "      <td>0</td>\n",
       "      <td>0</td>\n",
       "      <td>373450</td>\n",
       "      <td>8.0500</td>\n",
       "      <td>NaN</td>\n",
       "      <td>S</td>\n",
       "    </tr>\n",
       "  </tbody>\n",
       "</table>\n",
       "</div>"
      ],
      "text/plain": [
       "   PassengerId  Survived  Pclass  \\\n",
       "0            1         0       3   \n",
       "1            2         1       1   \n",
       "2            3         1       3   \n",
       "3            4         1       1   \n",
       "4            5         0       3   \n",
       "\n",
       "                                                Name     Sex   Age  SibSp  \\\n",
       "0                            Braund, Mr. Owen Harris    male  22.0      1   \n",
       "1  Cumings, Mrs. John Bradley (Florence Briggs Th...  female  38.0      1   \n",
       "2                             Heikkinen, Miss. Laina  female  26.0      0   \n",
       "3       Futrelle, Mrs. Jacques Heath (Lily May Peel)  female  35.0      1   \n",
       "4                           Allen, Mr. William Henry    male  35.0      0   \n",
       "\n",
       "   Parch            Ticket     Fare Cabin Embarked  \n",
       "0      0         A/5 21171   7.2500   NaN        S  \n",
       "1      0          PC 17599  71.2833   C85        C  \n",
       "2      0  STON/O2. 3101282   7.9250   NaN        S  \n",
       "3      0            113803  53.1000  C123        S  \n",
       "4      0            373450   8.0500   NaN        S  "
      ]
     },
     "execution_count": 4,
     "metadata": {},
     "output_type": "execute_result"
    }
   ],
   "source": [
    "train.head()"
   ]
  },
  {
   "cell_type": "code",
   "execution_count": 5,
   "id": "f217b34e",
   "metadata": {
    "execution": {
     "iopub.execute_input": "2023-08-21T17:28:45.115314Z",
     "iopub.status.busy": "2023-08-21T17:28:45.114934Z",
     "iopub.status.idle": "2023-08-21T17:28:45.120021Z",
     "shell.execute_reply": "2023-08-21T17:28:45.119122Z"
    },
    "papermill": {
     "duration": 0.014439,
     "end_time": "2023-08-21T17:28:45.122254",
     "exception": false,
     "start_time": "2023-08-21T17:28:45.107815",
     "status": "completed"
    },
    "tags": []
   },
   "outputs": [
    {
     "name": "stdout",
     "output_type": "stream",
     "text": [
      "(891, 12)\n",
      "(418, 11)\n"
     ]
    }
   ],
   "source": [
    "print(train.shape)\n",
    "print(test.shape)"
   ]
  },
  {
   "cell_type": "code",
   "execution_count": 6,
   "id": "72931517",
   "metadata": {
    "execution": {
     "iopub.execute_input": "2023-08-21T17:28:45.137293Z",
     "iopub.status.busy": "2023-08-21T17:28:45.136847Z",
     "iopub.status.idle": "2023-08-21T17:28:45.149048Z",
     "shell.execute_reply": "2023-08-21T17:28:45.148497Z"
    },
    "papermill": {
     "duration": 0.021267,
     "end_time": "2023-08-21T17:28:45.150630",
     "exception": false,
     "start_time": "2023-08-21T17:28:45.129363",
     "status": "completed"
    },
    "tags": []
   },
   "outputs": [],
   "source": [
    "train.drop(['Name','Ticket','Cabin'],axis=1,inplace=True)\n",
    "test.drop(['Name','Ticket','Cabin'],axis=1,inplace=True)\n",
    "# factors on which the survival does not depend"
   ]
  },
  {
   "cell_type": "code",
   "execution_count": 7,
   "id": "1c2277e5",
   "metadata": {
    "execution": {
     "iopub.execute_input": "2023-08-21T17:28:45.164801Z",
     "iopub.status.busy": "2023-08-21T17:28:45.163990Z",
     "iopub.status.idle": "2023-08-21T17:28:45.174977Z",
     "shell.execute_reply": "2023-08-21T17:28:45.174397Z"
    },
    "papermill": {
     "duration": 0.019341,
     "end_time": "2023-08-21T17:28:45.176416",
     "exception": false,
     "start_time": "2023-08-21T17:28:45.157075",
     "status": "completed"
    },
    "tags": []
   },
   "outputs": [
    {
     "data": {
      "text/html": [
       "<div>\n",
       "<style scoped>\n",
       "    .dataframe tbody tr th:only-of-type {\n",
       "        vertical-align: middle;\n",
       "    }\n",
       "\n",
       "    .dataframe tbody tr th {\n",
       "        vertical-align: top;\n",
       "    }\n",
       "\n",
       "    .dataframe thead th {\n",
       "        text-align: right;\n",
       "    }\n",
       "</style>\n",
       "<table border=\"1\" class=\"dataframe\">\n",
       "  <thead>\n",
       "    <tr style=\"text-align: right;\">\n",
       "      <th></th>\n",
       "      <th>PassengerId</th>\n",
       "      <th>Survived</th>\n",
       "      <th>Pclass</th>\n",
       "      <th>Sex</th>\n",
       "      <th>Age</th>\n",
       "      <th>SibSp</th>\n",
       "      <th>Parch</th>\n",
       "      <th>Fare</th>\n",
       "      <th>Embarked</th>\n",
       "    </tr>\n",
       "  </thead>\n",
       "  <tbody>\n",
       "    <tr>\n",
       "      <th>0</th>\n",
       "      <td>1</td>\n",
       "      <td>0</td>\n",
       "      <td>3</td>\n",
       "      <td>male</td>\n",
       "      <td>22.0</td>\n",
       "      <td>1</td>\n",
       "      <td>0</td>\n",
       "      <td>7.2500</td>\n",
       "      <td>S</td>\n",
       "    </tr>\n",
       "    <tr>\n",
       "      <th>1</th>\n",
       "      <td>2</td>\n",
       "      <td>1</td>\n",
       "      <td>1</td>\n",
       "      <td>female</td>\n",
       "      <td>38.0</td>\n",
       "      <td>1</td>\n",
       "      <td>0</td>\n",
       "      <td>71.2833</td>\n",
       "      <td>C</td>\n",
       "    </tr>\n",
       "    <tr>\n",
       "      <th>2</th>\n",
       "      <td>3</td>\n",
       "      <td>1</td>\n",
       "      <td>3</td>\n",
       "      <td>female</td>\n",
       "      <td>26.0</td>\n",
       "      <td>0</td>\n",
       "      <td>0</td>\n",
       "      <td>7.9250</td>\n",
       "      <td>S</td>\n",
       "    </tr>\n",
       "    <tr>\n",
       "      <th>3</th>\n",
       "      <td>4</td>\n",
       "      <td>1</td>\n",
       "      <td>1</td>\n",
       "      <td>female</td>\n",
       "      <td>35.0</td>\n",
       "      <td>1</td>\n",
       "      <td>0</td>\n",
       "      <td>53.1000</td>\n",
       "      <td>S</td>\n",
       "    </tr>\n",
       "    <tr>\n",
       "      <th>4</th>\n",
       "      <td>5</td>\n",
       "      <td>0</td>\n",
       "      <td>3</td>\n",
       "      <td>male</td>\n",
       "      <td>35.0</td>\n",
       "      <td>0</td>\n",
       "      <td>0</td>\n",
       "      <td>8.0500</td>\n",
       "      <td>S</td>\n",
       "    </tr>\n",
       "  </tbody>\n",
       "</table>\n",
       "</div>"
      ],
      "text/plain": [
       "   PassengerId  Survived  Pclass     Sex   Age  SibSp  Parch     Fare Embarked\n",
       "0            1         0       3    male  22.0      1      0   7.2500        S\n",
       "1            2         1       1  female  38.0      1      0  71.2833        C\n",
       "2            3         1       3  female  26.0      0      0   7.9250        S\n",
       "3            4         1       1  female  35.0      1      0  53.1000        S\n",
       "4            5         0       3    male  35.0      0      0   8.0500        S"
      ]
     },
     "execution_count": 7,
     "metadata": {},
     "output_type": "execute_result"
    }
   ],
   "source": [
    "train.head()"
   ]
  },
  {
   "cell_type": "code",
   "execution_count": 8,
   "id": "fd6cfd6f",
   "metadata": {
    "execution": {
     "iopub.execute_input": "2023-08-21T17:28:45.190563Z",
     "iopub.status.busy": "2023-08-21T17:28:45.190155Z",
     "iopub.status.idle": "2023-08-21T17:28:45.205390Z",
     "shell.execute_reply": "2023-08-21T17:28:45.204607Z"
    },
    "papermill": {
     "duration": 0.0248,
     "end_time": "2023-08-21T17:28:45.207729",
     "exception": false,
     "start_time": "2023-08-21T17:28:45.182929",
     "status": "completed"
    },
    "tags": []
   },
   "outputs": [
    {
     "name": "stdout",
     "output_type": "stream",
     "text": [
      "<class 'pandas.core.frame.DataFrame'>\n",
      "RangeIndex: 891 entries, 0 to 890\n",
      "Data columns (total 9 columns):\n",
      " #   Column       Non-Null Count  Dtype  \n",
      "---  ------       --------------  -----  \n",
      " 0   PassengerId  891 non-null    int64  \n",
      " 1   Survived     891 non-null    int64  \n",
      " 2   Pclass       891 non-null    int64  \n",
      " 3   Sex          891 non-null    object \n",
      " 4   Age          714 non-null    float64\n",
      " 5   SibSp        891 non-null    int64  \n",
      " 6   Parch        891 non-null    int64  \n",
      " 7   Fare         891 non-null    float64\n",
      " 8   Embarked     889 non-null    object \n",
      "dtypes: float64(2), int64(5), object(2)\n",
      "memory usage: 62.8+ KB\n"
     ]
    }
   ],
   "source": [
    "train.info()"
   ]
  },
  {
   "cell_type": "code",
   "execution_count": 9,
   "id": "04185b65",
   "metadata": {
    "execution": {
     "iopub.execute_input": "2023-08-21T17:28:45.222746Z",
     "iopub.status.busy": "2023-08-21T17:28:45.222232Z",
     "iopub.status.idle": "2023-08-21T17:28:45.247778Z",
     "shell.execute_reply": "2023-08-21T17:28:45.246826Z"
    },
    "papermill": {
     "duration": 0.035173,
     "end_time": "2023-08-21T17:28:45.249922",
     "exception": false,
     "start_time": "2023-08-21T17:28:45.214749",
     "status": "completed"
    },
    "tags": []
   },
   "outputs": [
    {
     "data": {
      "text/html": [
       "<div>\n",
       "<style scoped>\n",
       "    .dataframe tbody tr th:only-of-type {\n",
       "        vertical-align: middle;\n",
       "    }\n",
       "\n",
       "    .dataframe tbody tr th {\n",
       "        vertical-align: top;\n",
       "    }\n",
       "\n",
       "    .dataframe thead th {\n",
       "        text-align: right;\n",
       "    }\n",
       "</style>\n",
       "<table border=\"1\" class=\"dataframe\">\n",
       "  <thead>\n",
       "    <tr style=\"text-align: right;\">\n",
       "      <th></th>\n",
       "      <th>PassengerId</th>\n",
       "      <th>Survived</th>\n",
       "      <th>Pclass</th>\n",
       "      <th>Age</th>\n",
       "      <th>SibSp</th>\n",
       "      <th>Parch</th>\n",
       "      <th>Fare</th>\n",
       "    </tr>\n",
       "  </thead>\n",
       "  <tbody>\n",
       "    <tr>\n",
       "      <th>count</th>\n",
       "      <td>891.000000</td>\n",
       "      <td>891.000000</td>\n",
       "      <td>891.000000</td>\n",
       "      <td>714.000000</td>\n",
       "      <td>891.000000</td>\n",
       "      <td>891.000000</td>\n",
       "      <td>891.000000</td>\n",
       "    </tr>\n",
       "    <tr>\n",
       "      <th>mean</th>\n",
       "      <td>446.000000</td>\n",
       "      <td>0.383838</td>\n",
       "      <td>2.308642</td>\n",
       "      <td>29.699118</td>\n",
       "      <td>0.523008</td>\n",
       "      <td>0.381594</td>\n",
       "      <td>32.204208</td>\n",
       "    </tr>\n",
       "    <tr>\n",
       "      <th>std</th>\n",
       "      <td>257.353842</td>\n",
       "      <td>0.486592</td>\n",
       "      <td>0.836071</td>\n",
       "      <td>14.526497</td>\n",
       "      <td>1.102743</td>\n",
       "      <td>0.806057</td>\n",
       "      <td>49.693429</td>\n",
       "    </tr>\n",
       "    <tr>\n",
       "      <th>min</th>\n",
       "      <td>1.000000</td>\n",
       "      <td>0.000000</td>\n",
       "      <td>1.000000</td>\n",
       "      <td>0.420000</td>\n",
       "      <td>0.000000</td>\n",
       "      <td>0.000000</td>\n",
       "      <td>0.000000</td>\n",
       "    </tr>\n",
       "    <tr>\n",
       "      <th>25%</th>\n",
       "      <td>223.500000</td>\n",
       "      <td>0.000000</td>\n",
       "      <td>2.000000</td>\n",
       "      <td>20.125000</td>\n",
       "      <td>0.000000</td>\n",
       "      <td>0.000000</td>\n",
       "      <td>7.910400</td>\n",
       "    </tr>\n",
       "    <tr>\n",
       "      <th>50%</th>\n",
       "      <td>446.000000</td>\n",
       "      <td>0.000000</td>\n",
       "      <td>3.000000</td>\n",
       "      <td>28.000000</td>\n",
       "      <td>0.000000</td>\n",
       "      <td>0.000000</td>\n",
       "      <td>14.454200</td>\n",
       "    </tr>\n",
       "    <tr>\n",
       "      <th>75%</th>\n",
       "      <td>668.500000</td>\n",
       "      <td>1.000000</td>\n",
       "      <td>3.000000</td>\n",
       "      <td>38.000000</td>\n",
       "      <td>1.000000</td>\n",
       "      <td>0.000000</td>\n",
       "      <td>31.000000</td>\n",
       "    </tr>\n",
       "    <tr>\n",
       "      <th>max</th>\n",
       "      <td>891.000000</td>\n",
       "      <td>1.000000</td>\n",
       "      <td>3.000000</td>\n",
       "      <td>80.000000</td>\n",
       "      <td>8.000000</td>\n",
       "      <td>6.000000</td>\n",
       "      <td>512.329200</td>\n",
       "    </tr>\n",
       "  </tbody>\n",
       "</table>\n",
       "</div>"
      ],
      "text/plain": [
       "       PassengerId    Survived      Pclass         Age       SibSp  \\\n",
       "count   891.000000  891.000000  891.000000  714.000000  891.000000   \n",
       "mean    446.000000    0.383838    2.308642   29.699118    0.523008   \n",
       "std     257.353842    0.486592    0.836071   14.526497    1.102743   \n",
       "min       1.000000    0.000000    1.000000    0.420000    0.000000   \n",
       "25%     223.500000    0.000000    2.000000   20.125000    0.000000   \n",
       "50%     446.000000    0.000000    3.000000   28.000000    0.000000   \n",
       "75%     668.500000    1.000000    3.000000   38.000000    1.000000   \n",
       "max     891.000000    1.000000    3.000000   80.000000    8.000000   \n",
       "\n",
       "            Parch        Fare  \n",
       "count  891.000000  891.000000  \n",
       "mean     0.381594   32.204208  \n",
       "std      0.806057   49.693429  \n",
       "min      0.000000    0.000000  \n",
       "25%      0.000000    7.910400  \n",
       "50%      0.000000   14.454200  \n",
       "75%      0.000000   31.000000  \n",
       "max      6.000000  512.329200  "
      ]
     },
     "execution_count": 9,
     "metadata": {},
     "output_type": "execute_result"
    }
   ],
   "source": [
    "train.describe()"
   ]
  },
  {
   "cell_type": "code",
   "execution_count": 10,
   "id": "3e152fc7",
   "metadata": {
    "execution": {
     "iopub.execute_input": "2023-08-21T17:28:45.265115Z",
     "iopub.status.busy": "2023-08-21T17:28:45.264649Z",
     "iopub.status.idle": "2023-08-21T17:28:45.272570Z",
     "shell.execute_reply": "2023-08-21T17:28:45.271516Z"
    },
    "papermill": {
     "duration": 0.017714,
     "end_time": "2023-08-21T17:28:45.274457",
     "exception": false,
     "start_time": "2023-08-21T17:28:45.256743",
     "status": "completed"
    },
    "tags": []
   },
   "outputs": [
    {
     "data": {
      "text/plain": [
       "PassengerId      0\n",
       "Survived         0\n",
       "Pclass           0\n",
       "Sex              0\n",
       "Age            177\n",
       "SibSp            0\n",
       "Parch            0\n",
       "Fare             0\n",
       "Embarked         2\n",
       "dtype: int64"
      ]
     },
     "execution_count": 10,
     "metadata": {},
     "output_type": "execute_result"
    }
   ],
   "source": [
    "train.isna().sum()"
   ]
  },
  {
   "cell_type": "code",
   "execution_count": 11,
   "id": "3164aefd",
   "metadata": {
    "execution": {
     "iopub.execute_input": "2023-08-21T17:28:45.289056Z",
     "iopub.status.busy": "2023-08-21T17:28:45.288743Z",
     "iopub.status.idle": "2023-08-21T17:28:45.453217Z",
     "shell.execute_reply": "2023-08-21T17:28:45.452594Z"
    },
    "papermill": {
     "duration": 0.173658,
     "end_time": "2023-08-21T17:28:45.454904",
     "exception": false,
     "start_time": "2023-08-21T17:28:45.281246",
     "status": "completed"
    },
    "tags": []
   },
   "outputs": [
    {
     "data": {
      "text/plain": [
       "<Axes: >"
      ]
     },
     "execution_count": 11,
     "metadata": {},
     "output_type": "execute_result"
    },
    {
     "data": {
      "image/png": "[encoded data removed]",
      "text/plain": [
       "<Figure size 640x480 with 1 Axes>"
      ]
     },
     "metadata": {},
     "output_type": "display_data"
    }
   ],
   "source": [
    "#Plotting null values heatmap\n",
    "sns.heatmap(train.isnull(),yticklabels=False,cbar=False,cmap='viridis')"
   ]
  },
  {
   "cell_type": "code",
   "execution_count": 12,
   "id": "9e60d538",
   "metadata": {
    "execution": {
     "iopub.execute_input": "2023-08-21T17:28:45.471319Z",
     "iopub.status.busy": "2023-08-21T17:28:45.470668Z",
     "iopub.status.idle": "2023-08-21T17:28:45.823423Z",
     "shell.execute_reply": "2023-08-21T17:28:45.822176Z"
    },
    "papermill": {
     "duration": 0.363455,
     "end_time": "2023-08-21T17:28:45.825884",
     "exception": false,
     "start_time": "2023-08-21T17:28:45.462429",
     "status": "completed"
    },
    "tags": []
   },
   "outputs": [
    {
     "name": "stderr",
     "output_type": "stream",
     "text": [
      "/tmp/ipykernel_20/1377056137.py:2: FutureWarning: The default value of numeric_only in DataFrame.corr is deprecated. In a future version, it will default to False. Select only valid columns or specify the value of numeric_only to silence this warning.\n",
      "  corr = train.corr()\n"
     ]
    },
    {
     "data": {
      "image/png": "[encoded data removed]",
      "text/plain": [
       "<Figure size 700x700 with 2 Axes>"
      ]
     },
     "metadata": {},
     "output_type": "display_data"
    }
   ],
   "source": [
    "#Plotting correlation heatmap\n",
    "corr = train.corr()\n",
    "corr = corr.apply(abs)\n",
    "plt.figure(figsize=(7,7))\n",
    "map = sns.heatmap(corr,annot=True,cmap=\"RdYlGn\")"
   ]
  },
  {
   "cell_type": "code",
   "execution_count": 13,
   "id": "fb87b50d",
   "metadata": {
    "execution": {
     "iopub.execute_input": "2023-08-21T17:28:45.849529Z",
     "iopub.status.busy": "2023-08-21T17:28:45.848462Z",
     "iopub.status.idle": "2023-08-21T17:28:45.969057Z",
     "shell.execute_reply": "2023-08-21T17:28:45.968020Z"
    },
    "papermill": {
     "duration": 0.133953,
     "end_time": "2023-08-21T17:28:45.970933",
     "exception": false,
     "start_time": "2023-08-21T17:28:45.836980",
     "status": "completed"
    },
    "tags": []
   },
   "outputs": [
    {
     "data": {
      "text/plain": [
       "0    549\n",
       "1    342\n",
       "Name: Survived, dtype: int64"
      ]
     },
     "execution_count": 13,
     "metadata": {},
     "output_type": "execute_result"
    },
    {
     "data": {
      "image/png": "[encoded data removed]",
      "text/plain": [
       "<Figure size 500x500 with 1 Axes>"
      ]
     },
     "metadata": {},
     "output_type": "display_data"
    }
   ],
   "source": [
    "#Plotting the Pie chart\n",
    "fig = plt.figure(figsize=(5,5))\n",
    "colors = [\"skyblue\",'pink']\n",
    "surv = train[train['Survived']==1]\n",
    "died = train[train['Survived']==0]\n",
    "ck = [surv['Survived'].count(),died['Survived'].count()]\n",
    "piechart = plt.pie(ck,labels=[\"Survived\",\"Died\"],\n",
    "autopct ='%1.1f%%',\n",
    "shadow = True,\n",
    "colors = colors,\n",
    "startangle = 45,\n",
    "explode=(0, 0.1))\n",
    "train.Survived.value_counts()"
   ]
  },
  {
   "cell_type": "code",
   "execution_count": 14,
   "id": "b65b6dff",
   "metadata": {
    "execution": {
     "iopub.execute_input": "2023-08-21T17:28:45.989143Z",
     "iopub.status.busy": "2023-08-21T17:28:45.988809Z",
     "iopub.status.idle": "2023-08-21T17:28:46.231849Z",
     "shell.execute_reply": "2023-08-21T17:28:46.230873Z"
    },
    "papermill": {
     "duration": 0.254101,
     "end_time": "2023-08-21T17:28:46.233611",
     "exception": false,
     "start_time": "2023-08-21T17:28:45.979510",
     "status": "completed"
    },
    "tags": []
   },
   "outputs": [
    {
     "data": {
      "text/plain": [
       "<Axes: xlabel='Age', ylabel='Count'>"
      ]
     },
     "execution_count": 14,
     "metadata": {},
     "output_type": "execute_result"
    },
    {
     "data": {
      "image/png": "[encoded data removed]",
      "text/plain": [
       "<Figure size 640x480 with 1 Axes>"
      ]
     },
     "metadata": {},
     "output_type": "display_data"
    }
   ],
   "source": [
    "sns.histplot(train['Age'].dropna())"
   ]
  },
  {
   "cell_type": "code",
   "execution_count": 15,
   "id": "f5e30c47",
   "metadata": {
    "execution": {
     "iopub.execute_input": "2023-08-21T17:28:46.252232Z",
     "iopub.status.busy": "2023-08-21T17:28:46.251933Z",
     "iopub.status.idle": "2023-08-21T17:28:46.488654Z",
     "shell.execute_reply": "2023-08-21T17:28:46.487646Z"
    },
    "papermill": {
     "duration": 0.248637,
     "end_time": "2023-08-21T17:28:46.491012",
     "exception": false,
     "start_time": "2023-08-21T17:28:46.242375",
     "status": "completed"
    },
    "tags": []
   },
   "outputs": [
    {
     "data": {
      "text/plain": [
       "<Axes: xlabel='Parch', ylabel='Count'>"
      ]
     },
     "execution_count": 15,
     "metadata": {},
     "output_type": "execute_result"
    },
    {
     "data": {
      "image/png": "[encoded data removed]",
      "text/plain": [
       "<Figure size 640x480 with 1 Axes>"
      ]
     },
     "metadata": {},
     "output_type": "display_data"
    }
   ],
   "source": [
    "sns.histplot(train['Parch'].dropna(),bins=15)"
   ]
  },
  {
   "cell_type": "code",
   "execution_count": 16,
   "id": "77503578",
   "metadata": {
    "execution": {
     "iopub.execute_input": "2023-08-21T17:28:46.510749Z",
     "iopub.status.busy": "2023-08-21T17:28:46.510475Z",
     "iopub.status.idle": "2023-08-21T17:28:46.738541Z",
     "shell.execute_reply": "2023-08-21T17:28:46.737551Z"
    },
    "papermill": {
     "duration": 0.240254,
     "end_time": "2023-08-21T17:28:46.740505",
     "exception": false,
     "start_time": "2023-08-21T17:28:46.500251",
     "status": "completed"
    },
    "tags": []
   },
   "outputs": [
    {
     "data": {
      "text/plain": [
       "<Axes: xlabel='Pclass', ylabel='Count'>"
      ]
     },
     "execution_count": 16,
     "metadata": {},
     "output_type": "execute_result"
    },
    {
     "data": {
      "image/png": "[encoded data removed]",
      "text/plain": [
       "<Figure size 640x480 with 1 Axes>"
      ]
     },
     "metadata": {},
     "output_type": "display_data"
    }
   ],
   "source": [
    "sns.histplot(train['Pclass'].dropna(),bins=15)"
   ]
  },
  {
   "cell_type": "code",
   "execution_count": 17,
   "id": "d8b4863b",
   "metadata": {
    "execution": {
     "iopub.execute_input": "2023-08-21T17:28:46.760370Z",
     "iopub.status.busy": "2023-08-21T17:28:46.760056Z",
     "iopub.status.idle": "2023-08-21T17:28:46.767265Z",
     "shell.execute_reply": "2023-08-21T17:28:46.766379Z"
    },
    "papermill": {
     "duration": 0.019228,
     "end_time": "2023-08-21T17:28:46.769140",
     "exception": false,
     "start_time": "2023-08-21T17:28:46.749912",
     "status": "completed"
    },
    "tags": []
   },
   "outputs": [],
   "source": [
    "#Mappping categorical to numeric\n",
    "train['Sex']=train['Sex'].map({'male':0,'female':1})\n",
    "test['Sex']=test['Sex'].map({'male':0,'female':1})"
   ]
  },
  {
   "cell_type": "code",
   "execution_count": 18,
   "id": "6b67ee43",
   "metadata": {
    "execution": {
     "iopub.execute_input": "2023-08-21T17:28:46.792048Z",
     "iopub.status.busy": "2023-08-21T17:28:46.791676Z",
     "iopub.status.idle": "2023-08-21T17:28:46.798173Z",
     "shell.execute_reply": "2023-08-21T17:28:46.797372Z"
    },
    "papermill": {
     "duration": 0.020168,
     "end_time": "2023-08-21T17:28:46.800180",
     "exception": false,
     "start_time": "2023-08-21T17:28:46.780012",
     "status": "completed"
    },
    "tags": []
   },
   "outputs": [],
   "source": [
    "train['Age'].fillna(train['Age'].mean(),inplace=True)\n",
    "test['Age'].fillna(test['Age'].mean(),inplace=True)"
   ]
  },
  {
   "cell_type": "code",
   "execution_count": 19,
   "id": "25a114e9",
   "metadata": {
    "execution": {
     "iopub.execute_input": "2023-08-21T17:28:46.820424Z",
     "iopub.status.busy": "2023-08-21T17:28:46.820099Z",
     "iopub.status.idle": "2023-08-21T17:28:46.828609Z",
     "shell.execute_reply": "2023-08-21T17:28:46.827713Z"
    },
    "papermill": {
     "duration": 0.020218,
     "end_time": "2023-08-21T17:28:46.830406",
     "exception": false,
     "start_time": "2023-08-21T17:28:46.810188",
     "status": "completed"
    },
    "tags": []
   },
   "outputs": [],
   "source": [
    "#Replacing 0’s & nulls by column mean\n",
    "train['Fare'] = train['Fare'].replace(0, train['Fare'].mean())\n",
    "train['Fare'].replace('nan',np.nan,inplace=True)\n",
    "train['Fare'].fillna(train['Fare'].mean(),inplace=True)\n",
    "test['Fare'] = test['Fare'].replace(0, test['Fare'].mean())\n",
    "test['Fare'].replace('nan',np.nan,inplace=True)\n",
    "test['Fare'].fillna(test['Fare'].mean(),inplace=True)"
   ]
  },
  {
   "cell_type": "code",
   "execution_count": 20,
   "id": "1c7a1342",
   "metadata": {
    "execution": {
     "iopub.execute_input": "2023-08-21T17:28:46.850399Z",
     "iopub.status.busy": "2023-08-21T17:28:46.850054Z",
     "iopub.status.idle": "2023-08-21T17:28:46.857240Z",
     "shell.execute_reply": "2023-08-21T17:28:46.856172Z"
    },
    "papermill": {
     "duration": 0.019246,
     "end_time": "2023-08-21T17:28:46.859022",
     "exception": false,
     "start_time": "2023-08-21T17:28:46.839776",
     "status": "completed"
    },
    "tags": []
   },
   "outputs": [],
   "source": [
    "#Replacing nulls by column mean \n",
    "train['Embarked'].replace('nan',np.nan,inplace=True)\n",
    "train['Embarked'].fillna(train['Embarked'].mode()[0],inplace=True)\n",
    "test['Embarked'].replace('nan',np.nan,inplace=True)\n",
    "test['Embarked'].fillna(test['Embarked'].mode()[0],inplace=True)"
   ]
  },
  {
   "cell_type": "code",
   "execution_count": 21,
   "id": "ab9380f7",
   "metadata": {
    "execution": {
     "iopub.execute_input": "2023-08-21T17:28:46.878879Z",
     "iopub.status.busy": "2023-08-21T17:28:46.878206Z",
     "iopub.status.idle": "2023-08-21T17:28:46.886149Z",
     "shell.execute_reply": "2023-08-21T17:28:46.885110Z"
    },
    "papermill": {
     "duration": 0.020356,
     "end_time": "2023-08-21T17:28:46.888626",
     "exception": false,
     "start_time": "2023-08-21T17:28:46.868270",
     "status": "completed"
    },
    "tags": []
   },
   "outputs": [
    {
     "data": {
      "text/plain": [
       "array([0, 1])"
      ]
     },
     "execution_count": 21,
     "metadata": {},
     "output_type": "execute_result"
    }
   ],
   "source": [
    "#Printing unique values in 'Sex' column\n",
    "train['Sex'].unique()"
   ]
  },
  {
   "cell_type": "code",
   "execution_count": 22,
   "id": "75b2dcd4",
   "metadata": {
    "execution": {
     "iopub.execute_input": "2023-08-21T17:28:46.909201Z",
     "iopub.status.busy": "2023-08-21T17:28:46.908882Z",
     "iopub.status.idle": "2023-08-21T17:28:47.092404Z",
     "shell.execute_reply": "2023-08-21T17:28:47.091351Z"
    },
    "papermill": {
     "duration": 0.195681,
     "end_time": "2023-08-21T17:28:47.094213",
     "exception": false,
     "start_time": "2023-08-21T17:28:46.898532",
     "status": "completed"
    },
    "tags": []
   },
   "outputs": [
    {
     "data": {
      "image/png": "[encoded data removed]",
      "text/plain": [
       "<Figure size 640x480 with 1 Axes>"
      ]
     },
     "metadata": {},
     "output_type": "display_data"
    }
   ],
   "source": [
    "sns.countplot(data=train, x='Sex', hue='Sex')\n",
    "plt.title('Count Plot of Male and Female')\n",
    "plt.show()"
   ]
  },
  {
   "cell_type": "code",
   "execution_count": 23,
   "id": "f54323c6",
   "metadata": {
    "execution": {
     "iopub.execute_input": "2023-08-21T17:28:47.115120Z",
     "iopub.status.busy": "2023-08-21T17:28:47.114790Z",
     "iopub.status.idle": "2023-08-21T17:28:47.121835Z",
     "shell.execute_reply": "2023-08-21T17:28:47.120893Z"
    },
    "papermill": {
     "duration": 0.019722,
     "end_time": "2023-08-21T17:28:47.123639",
     "exception": false,
     "start_time": "2023-08-21T17:28:47.103917",
     "status": "completed"
    },
    "tags": []
   },
   "outputs": [],
   "source": [
    "#Mappping categorical to numeric\n",
    "train['Embarked']=train['Embarked'].map({'S':0,'C':1,'Q':2})\n",
    "test['Embarked']=test['Embarked'].map({'S':0,'C':1,'Q':2})"
   ]
  },
  {
   "cell_type": "code",
   "execution_count": 24,
   "id": "5b4cce86",
   "metadata": {
    "execution": {
     "iopub.execute_input": "2023-08-21T17:28:47.143894Z",
     "iopub.status.busy": "2023-08-21T17:28:47.143573Z",
     "iopub.status.idle": "2023-08-21T17:28:47.148840Z",
     "shell.execute_reply": "2023-08-21T17:28:47.147900Z"
    },
    "papermill": {
     "duration": 0.017121,
     "end_time": "2023-08-21T17:28:47.150393",
     "exception": false,
     "start_time": "2023-08-21T17:28:47.133272",
     "status": "completed"
    },
    "tags": []
   },
   "outputs": [],
   "source": [
    "#Handling skewness in 'Age' column\n",
    "train['Age']=np.log(train['Age'])\n",
    "test['Age']=np.log(test['Age'])"
   ]
  },
  {
   "cell_type": "code",
   "execution_count": 25,
   "id": "e1e5f4a2",
   "metadata": {
    "execution": {
     "iopub.execute_input": "2023-08-21T17:28:47.171023Z",
     "iopub.status.busy": "2023-08-21T17:28:47.170735Z",
     "iopub.status.idle": "2023-08-21T17:28:47.175295Z",
     "shell.execute_reply": "2023-08-21T17:28:47.174690Z"
    },
    "papermill": {
     "duration": 0.01672,
     "end_time": "2023-08-21T17:28:47.177170",
     "exception": false,
     "start_time": "2023-08-21T17:28:47.160450",
     "status": "completed"
    },
    "tags": []
   },
   "outputs": [],
   "source": [
    "#Handling skewness in 'Fare' column\n",
    "test['Fare']=np.log(test['Fare'])\n",
    "train['Fare']=np.log(train['Fare'])"
   ]
  },
  {
   "cell_type": "code",
   "execution_count": 26,
   "id": "0e8a4a0b",
   "metadata": {
    "execution": {
     "iopub.execute_input": "2023-08-21T17:28:47.198431Z",
     "iopub.status.busy": "2023-08-21T17:28:47.198079Z",
     "iopub.status.idle": "2023-08-21T17:28:47.203269Z",
     "shell.execute_reply": "2023-08-21T17:28:47.202387Z"
    },
    "papermill": {
     "duration": 0.01754,
     "end_time": "2023-08-21T17:28:47.205035",
     "exception": false,
     "start_time": "2023-08-21T17:28:47.187495",
     "status": "completed"
    },
    "tags": []
   },
   "outputs": [],
   "source": [
    "x_train=train.drop(['Survived'],axis=1)\n",
    "y_train=train['Survived']"
   ]
  },
  {
   "cell_type": "code",
   "execution_count": 27,
   "id": "c231d4dc",
   "metadata": {
    "execution": {
     "iopub.execute_input": "2023-08-21T17:28:47.224787Z",
     "iopub.status.busy": "2023-08-21T17:28:47.224471Z",
     "iopub.status.idle": "2023-08-21T17:28:56.590978Z",
     "shell.execute_reply": "2023-08-21T17:28:56.590235Z"
    },
    "papermill": {
     "duration": 9.378672,
     "end_time": "2023-08-21T17:28:56.592958",
     "exception": false,
     "start_time": "2023-08-21T17:28:47.214286",
     "status": "completed"
    },
    "tags": []
   },
   "outputs": [
    {
     "name": "stdout",
     "output_type": "stream",
     "text": [
      "{'colsample_bytree': 0.7, 'learning_rate': 0.3, 'max_depth': 4, 'n_estimators': 7}\n"
     ]
    }
   ],
   "source": [
    "#Defining the parameters to search within\n",
    "param_grid = {\n",
    "'n_estimators': range(6, 10),\n",
    "'max_depth': range(3, 8),\n",
    "'learning_rate': [.2, .3, .4],\n",
    "'colsample_bytree': [.7, .8, .9, 1]\n",
    "}\n",
    "#Specifying our classifier\n",
    "xgb = XGBClassifier()\n",
    "#Searching for the best parameters\n",
    "g_search = GridSearchCV(estimator = xgb, param_grid = param_grid,\n",
    "cv = 3, n_jobs = 1, verbose = 0, return_train_score=True)\n",
    "#Fitting the model using best parameters found\n",
    "g_search.fit(x_train, y_train)\n",
    "#Printing the best parameters found\n",
    "print(g_search.best_params_)"
   ]
  },
  {
   "cell_type": "code",
   "execution_count": 28,
   "id": "129cca18",
   "metadata": {
    "execution": {
     "iopub.execute_input": "2023-08-21T17:28:56.613987Z",
     "iopub.status.busy": "2023-08-21T17:28:56.613610Z",
     "iopub.status.idle": "2023-08-21T17:28:56.621842Z",
     "shell.execute_reply": "2023-08-21T17:28:56.621154Z"
    },
    "papermill": {
     "duration": 0.02072,
     "end_time": "2023-08-21T17:28:56.623616",
     "exception": false,
     "start_time": "2023-08-21T17:28:56.602896",
     "status": "completed"
    },
    "tags": []
   },
   "outputs": [],
   "source": [
    "y_pred = g_search.predict(test)"
   ]
  },
  {
   "cell_type": "code",
   "execution_count": 29,
   "id": "36d7cbeb",
   "metadata": {
    "execution": {
     "iopub.execute_input": "2023-08-21T17:28:56.648661Z",
     "iopub.status.busy": "2023-08-21T17:28:56.648222Z",
     "iopub.status.idle": "2023-08-21T17:28:56.656756Z",
     "shell.execute_reply": "2023-08-21T17:28:56.656107Z"
    },
    "papermill": {
     "duration": 0.024041,
     "end_time": "2023-08-21T17:28:56.658365",
     "exception": false,
     "start_time": "2023-08-21T17:28:56.634324",
     "status": "completed"
    },
    "tags": []
   },
   "outputs": [],
   "source": [
    "submission_df = pd.DataFrame({\n",
    "    'PassengerId': test['PassengerId'],  # Replace with your test dataset's unique identifier\n",
    "    'Survived': y_pred  # Replace with your predicted target variable\n",
    "})\n",
    "submission_df.to_csv('submission.csv', index=False)"
   ]
  },
  {
   "cell_type": "code",
   "execution_count": null,
   "id": "d567d0d1",
   "metadata": {
    "papermill": {
     "duration": 0.009314,
     "end_time": "2023-08-21T17:28:56.677587",
     "exception": false,
     "start_time": "2023-08-21T17:28:56.668273",
     "status": "completed"
    },
    "tags": []
   },
   "outputs": [],
   "source": []
  }
 ],
 "metadata": {
  "kernelspec": {
   "display_name": "Python 3",
   "language": "python",
   "name": "python3"
  },
  "language_info": {
   "codemirror_mode": {
    "name": "ipython",
    "version": 3
   },
   "file_extension": ".py",
   "mimetype": "text/x-python",
   "name": "python",
   "nbconvert_exporter": "python",
   "pygments_lexer": "ipython3",
   "version": "3.10.12"
  },
  "papermill": {
   "default_parameters": {},
   "duration": 21.704277,
   "end_time": "2023-08-21T17:28:57.608253",
   "environment_variables": {},
   "exception": null,
   "input_path": "__notebook__.ipynb",
   "output_path": "__notebook__.ipynb",
   "parameters": {},
   "start_time": "2023-08-21T17:28:35.903976",
   "version": "2.4.0"
  }
 },
 "nbformat": 4,
 "nbformat_minor": 5
}
